{
  "cells": [
    {
      "cell_type": "code",
      "execution_count": null,
      "metadata": {
        "id": "S2LPWU48gN73"
      },
      "outputs": [],
      "source": [
        "#Github.com/mstafafarahani\n",
        "#Mstafa.farahani@gmail.com\n",
        "#You tube: @GEEmap\n",
        "#Channel telegram : @GEEmap\n",
        "#Whatsapp +989381272118\n",
        "#learning air soil water pollution\n",
        "\n",
        "\n",
        "\n",
        "#episode16\n",
        "#I install and import package\n",
        "%pip install pygis\n",
        "import ee\n",
        "import geemap\n",
        "\n",
        "\n",
        "\n",
        "\n",
        "# I Register in Google Earth Engine\n",
        "cloud_project = 'ee-mstafafarahanit54f'\n",
        "try:\n",
        "    ee.Initialize(project=cloud_project)\n",
        "except:\n",
        "    ee.Authenticate()\n",
        "    ee.Initialize(project=cloud_project)"
      ]
    },
    {
      "cell_type": "markdown",
      "metadata": {
        "id": "CYJ5x7uvgSOk"
      },
      "source": [
        "#elevation ارتفاع"
      ]
    },
    {
      "cell_type": "code",
      "source": [
        "url = 'https://github.com/giswqs/data/raw/main/raster/srtm90.tif'\n",
        "filename = 'dem.tif'\n",
        "geemap.download_file(url, filename)"
      ],
      "metadata": {
        "id": "FZcAcNSvp4fe"
      },
      "execution_count": null,
      "outputs": []
    },
    {
      "cell_type": "code",
      "source": [
        "Map = geemap.Map()\n",
        "Map.add_raster(filename, cmap='terrain', layer_name=\"DEM\")\n",
        "vis_params = {'min': 0, 'max': 4000, 'palette': 'terrain'}\n",
        "Map.add_colorbar(vis_params, label='Elevation (m)')\n",
        "Map"
      ],
      "metadata": {
        "id": "7Ojhc4NCp84e"
      },
      "execution_count": null,
      "outputs": []
    }
  ],
  "metadata": {
    "colab": {
      "provenance": []
    },
    "kernelspec": {
      "display_name": "Python 3",
      "name": "python3"
    },
    "language_info": {
      "name": "python"
    }
  },
  "nbformat": 4,
  "nbformat_minor": 0
}