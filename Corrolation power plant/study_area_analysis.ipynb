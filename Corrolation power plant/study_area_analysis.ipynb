{
 "cells": [
  {
   "cell_type": "markdown",
   "id": "26e1dac3",
   "metadata": {},
   "source": [
    "# 📊 Descriptive and Correlation Analysis of Study Area\n",
    "\n",
    "This notebook performs descriptive statistics and correlation analysis on an Excel file containing climate and province data.\n"
   ]
  },
  {
   "cell_type": "code",
   "execution_count": null,
   "id": "b13d93f1",
   "metadata": {},
   "outputs": [],
   "source": [
    "from google.colab import files\n",
    "uploaded = files.upload()"
   ]
  },
  {
   "cell_type": "code",
   "execution_count": null,
   "id": "ab56109c",
   "metadata": {},
   "outputs": [],
   "source": [
    "import pandas as pd\n",
    "\n",
    "file_name = list(uploaded.keys())[0]\n",
    "xls = pd.ExcelFile(file_name)\n",
    "sheet_name = \"Location of the study area\"\n",
    "df = xls.parse(sheet_name)\n",
    "df.head()"
   ]
  },
  {
   "cell_type": "code",
   "execution_count": null,
   "id": "d60fdc2a",
   "metadata": {},
   "outputs": [],
   "source": [
    "print(\"=== Descriptive Statistics ===\")\n",
    "print(df.describe(include='all'))"
   ]
  },
  {
   "cell_type": "code",
   "execution_count": null,
   "id": "19ebbf4e",
   "metadata": {},
   "outputs": [],
   "source": [
    "import matplotlib.pyplot as plt\n",
    "\n",
    "climate_counts = df['Climate Type'].value_counts()\n",
    "climate_counts.plot(kind='bar', color='skyblue', edgecolor='black')\n",
    "plt.title(\"Frequency of Climate Types\")\n",
    "plt.xlabel(\"Climate Type\")\n",
    "plt.ylabel(\"Count\")\n",
    "plt.xticks(rotation=45)\n",
    "plt.grid(axis='y', linestyle='--', alpha=0.7)\n",
    "plt.tight_layout()\n",
    "plt.show()"
   ]
  },
  {
   "cell_type": "code",
   "execution_count": null,
   "id": "5a9b871b",
   "metadata": {},
   "outputs": [],
   "source": [
    "from sklearn.preprocessing import LabelEncoder\n",
    "import seaborn as sns\n",
    "\n",
    "df_encoded = df.copy()\n",
    "for column in df_encoded.columns:\n",
    "    if df_encoded[column].dtype == 'object':\n",
    "        df_encoded[column] = LabelEncoder().fit_transform(df_encoded[column])\n",
    "\n",
    "corr_matrix = df_encoded.corr()\n",
    "print(\"=== Correlation Matrix ===\")\n",
    "print(corr_matrix)\n",
    "\n",
    "plt.figure(figsize=(8, 6))\n",
    "sns.heatmap(corr_matrix, annot=True, cmap='coolwarm', linewidths=0.5)\n",
    "plt.title(\"Correlation Heatmap (Encoded)\")\n",
    "plt.tight_layout()\n",
    "plt.show()"
   ]
  },
  {
   "cell_type": "code",
   "execution_count": null,
   "id": "f04c70c5",
   "metadata": {},
   "outputs": [],
   "source": [
    "corr_matrix.to_csv(\"correlation_matrix.csv\")\n",
    "from google.colab import files\n",
    "files.download(\"correlation_matrix.csv\")"
   ]
  }
 ],
 "metadata": {},
 "nbformat": 4,
 "nbformat_minor": 5
}