{
  "nbformat": 4,
  "nbformat_minor": 0,
  "metadata": {
    "colab": {
      "provenance": []
    },
    "kernelspec": {
      "name": "python3",
      "display_name": "Python 3"
    },
    "language_info": {
      "name": "python"
    }
  },
  "cells": [
    {
      "cell_type": "code",
      "execution_count": null,
      "metadata": {
        "id": "D1uQ2IpLRaQJ"
      },
      "outputs": [],
      "source": [
        "#Github.com/mstafafarahani\n",
        "#Mstafa.farahani@gmail.com\n",
        "#You tube: @GEEmap\n",
        "#Channel telegram : @GEEmap\n",
        "#Whatsapp +989381272118\n",
        "#learning air soil water pollution\n",
        "\n",
        "\n",
        "\n",
        "#episode14\n",
        "#I install and import package\n",
        "%pip install pygis\n",
        "import ee\n",
        "import geemap\n",
        "\n",
        "\n",
        "\n",
        "\n",
        "# I Register in Google Earth Engine\n",
        "cloud_project = 'ee-mstafafarahanit54f'\n",
        "try:\n",
        "    ee.Initialize(project=cloud_project)\n",
        "except:\n",
        "    ee.Authenticate()\n",
        "    ee.Initialize(project=cloud_project)"
      ]
    },
    {
      "cell_type": "markdown",
      "source": [
        "#Filtering image collections"
      ],
      "metadata": {
        "id": "wDAx7xrrTINo"
      }
    },
    {
      "cell_type": "code",
      "source": [
        "Map = geemap.Map()\n",
        "collection = (\n",
        "    ee.ImageCollection('COPERNICUS/S2_SR')\n",
        "    .filterDate('2021-01-01', '2022-01-01')\n",
        "    .filter(ee.Filter.lt('CLOUDY_PIXEL_PERCENTAGE', 5))\n",
        ")\n",
        "image = collection.median()\n",
        "\n",
        "vis = {\n",
        "    'min': 0.0,\n",
        "    'max': 3000,\n",
        "    'bands': ['B4', 'B3', 'B2'],\n",
        "}\n",
        "\n",
        "Map.setCenter(83.277, 17.7009, 12)\n",
        "Map.addLayer(image, vis, 'Sentinel-2')\n",
        "Map"
      ],
      "metadata": {
        "id": "Jvz_K-jrTPJI"
      },
      "execution_count": null,
      "outputs": []
    }
  ]
}