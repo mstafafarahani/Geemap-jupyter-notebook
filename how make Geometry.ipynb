{
  "nbformat": 4,
  "nbformat_minor": 0,
  "metadata": {
    "colab": {
      "provenance": []
    },
    "kernelspec": {
      "name": "python3",
      "display_name": "Python 3"
    },
    "language_info": {
      "name": "python"
    }
  },
  "cells": [
    {
      "cell_type": "code",
      "execution_count": null,
      "metadata": {
        "id": "wIBdtBxPG5Hu"
      },
      "outputs": [],
      "source": [
        "#Github.com/mstafafarahani\n",
        "#Mstafa.farahani@gmail.com\n",
        "#You tube: @GEEmap\n",
        "#Channel telegram : @GEEmap\n",
        "#Whatsapp +989381272118\n",
        "#learning air soil water pollution\n",
        "\n",
        "\n",
        "\n",
        "#episode15\n",
        "#I install and import package\n",
        "%pip install pygis\n",
        "import ee\n",
        "import geemap\n",
        "\n",
        "\n",
        "\n",
        "\n",
        "# I Register in Google Earth Engine\n",
        "cloud_project = 'ee-mstafafarahanit54f'\n",
        "try:\n",
        "    ee.Initialize(project=cloud_project)\n",
        "except:\n",
        "    ee.Authenticate()\n",
        "    ee.Initialize(project=cloud_project)"
      ]
    },
    {
      "cell_type": "markdown",
      "source": [
        "#Creating Geometry objects"
      ],
      "metadata": {
        "id": "HDkdCevdHDM6"
      }
    },
    {
      "cell_type": "code",
      "source": [
        "\n",
        "#I create point for Geometry\n",
        "Map = geemap.Map()\n",
        "point = ee.Geometry.Point([1.5, 1.5])\n",
        "Map.addLayer(point, {}, 'Point')\n",
        "Map"
      ],
      "metadata": {
        "id": "KmQUyXGUHLNh"
      },
      "execution_count": null,
      "outputs": []
    },
    {
      "cell_type": "code",
      "source": [
        "#I create Line String for Geometry\n",
        "\n",
        "Map = geemap.Map()\n",
        "lineString = ee.Geometry.LineString([[-35, -10], [35, -10], [35, 10], [-35, 10]])\n",
        "Map.addLayer(lineString, {}, 'LineString')\n",
        "Map"
      ],
      "metadata": {
        "id": "xr5L39zmHhSn"
      },
      "execution_count": null,
      "outputs": []
    },
    {
      "cell_type": "code",
      "source": [
        "\n",
        "# I CREATE Linear Ring for geometry\n",
        "Map = geemap.Map()\n",
        "linearRing = ee.Geometry.LinearRing(\n",
        "    [[-35, -10], [35, -10], [35, 10], [-35, 10], [-35, -10]]\n",
        ")\n",
        "Map.addLayer(linearRing, {}, 'LinearRing')\n",
        "Map"
      ],
      "metadata": {
        "id": "8ZqgLAOnHiKX"
      },
      "execution_count": null,
      "outputs": []
    },
    {
      "cell_type": "code",
      "source": [
        "\n",
        "# I Create Rectangle for Geometry\n",
        "Map = geemap.Map()\n",
        "rectangle = ee.Geometry.Rectangle([-40, -20, 40, 20])\n",
        "Map.addLayer(rectangle, {}, 'Rectangle')\n",
        "Map"
      ],
      "metadata": {
        "id": "Y0nzRlw2Hihx"
      },
      "execution_count": null,
      "outputs": []
    },
    {
      "cell_type": "code",
      "source": [
        "\n",
        "#I Create  polygon for Geometry\n",
        "Map = geemap.Map()\n",
        "polygon = ee.Geometry.Polygon([[[-5, 40], [65, 40], [65, 60], [-5, 60], [-5, 60]]])\n",
        "Map.addLayer(polygon, {}, 'Polygon')\n",
        "Map"
      ],
      "metadata": {
        "id": "qgeKmIP2Hjw5"
      },
      "execution_count": null,
      "outputs": []
    }
  ]
}